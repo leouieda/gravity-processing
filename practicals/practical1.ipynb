{
 "cells": [
  {
   "cell_type": "markdown",
   "metadata": {},
   "source": [
    "# Practical 1: Processing ground-based gravity data\n",
    "\n",
    "In this practical, we'll process a set of synthetic gravity surveys near the city of Cape Town, South Africa. The surveys were conducted with a LaCoste & Romberg Model G gravimeter and tied to a single base station (station 0). The synthetic data were generated based on public domain data for Southern Africa distributed by the [NOAA National Centers for Environmental Information](https://www.ngdc.noaa.gov/).\n",
    "\n",
    "## Goals\n",
    "\n",
    "* Process the survey data from raw readings into absolute gravity\n",
    "* Merge them into a single database\n",
    "\n",
    "## Data \n",
    "\n",
    "For this practical, you'll need:\n",
    "\n",
    "* A zip archive with the survey data: [`cape-town-surveys.zip`](https://github.com/leouieda/gravity-processing/raw/main/data/cape-town-surveys.zip)\n",
    "* The gravimeter calibration table to convert readings to mGal: [`gravimeter-scaling.csv`](https://raw.githubusercontent.com/leouieda/gravity-processing/main/data/gravimeter-scaling.csv)\n",
    "\n",
    "Download both files, unzip the archive, and place everything into the **same folder as this notebook**. Your should folder structure should look like this:\n",
    "\n",
    "```\n",
    "gravity-practicals/\n",
    "├── cape-town-surveys/\n",
    "│   ├── cape-town-gravity-day-1.csv\n",
    "│   ├── cape-town-gravity-day-2.csv\n",
    "│   ├── cape-town-gravity-day-3.csv\n",
    "│   ├── cape-town-gravity-day-4.csv\n",
    "│   └── cape-town-gravity-day-5.csv\n",
    "├── gravimeter-scaling.csv\n",
    "└── practical1.ipynb\n",
    "```\n",
    "\n",
    "### Survey data\n",
    "\n",
    "The survey files are in Comma Separated Values (CSV) format, which is a table of values with rows representing individual survey points and columns representing the position, time, and meter reading. For example, these are the first few lines of one of these files:\n",
    "\n",
    "```\n",
    "station_id,longitude,latitude,easting,northing,elevation,time_minutes,reading\n",
    "0,18.34444,-34.12971,255105.43,6220276.33,32.2,0.0,2555.08\n",
    "1,18.37418,-34.19583,258037.64,6213013.01,18.4,8.0,2565.12\n",
    "2,18.40388,-34.23972,260899.25,6208214.71,25.0,14.0,2569.49\n",
    "3,18.41112,-34.16444,261353.99,6216582.03,228.7,23.0,2514.59\n",
    "```\n",
    "\n",
    "* Station ID is a unique identifier (across all surveys) for each survey point. \n",
    "* Latitude and longitude are geographic coordinates in degress referenced to the WGS84 ellipsoid.\n",
    "* Easting and northing are UTM coordinates in meters.\n",
    "* Elevation is the height of gravimeter above the WGS84 ellipsoid in meters.\n",
    "* Time are the minutes since the first reading at the base station.\n",
    "* Reading is the gravimeter reading (unscaled) at that stattion.\n",
    "\n",
    "The surveys were conducted in a loop, beginning and ending at the base station.\n",
    "\n",
    "### Gravimeter calibration table\n",
    "\n",
    "The gravimeter calibration table is particular to the gravimeter used for this survey. The table was provided by the manufacturer. This is what the first few lines of the table look like:\n",
    "\n",
    "```\n",
    "counter_reading,value_mgal,interval_factor\n",
    "0000,0000.00,1.00636\n",
    "0100,0100.64,1.00621\n",
    "0200,0201.26,1.00609\n",
    "0300,0301.87,1.00597\n",
    "0400,0402.46,1.00588\n",
    "0500,0503.05,1.00579\n",
    "0600,0603.63,1.00570\n",
    "0700,0704.20,1.00563\n",
    "```\n",
    "\n",
    "Convert the reading to mGal using the table values and the following equation:\n",
    "\n",
    "```\n",
    "reading_mgal = (reading - counter_reading) * interval_factor + value_mgal\n",
    "```\n",
    "\n",
    "### Base station\n",
    "\n",
    "The base station for all surveys was the same. Here are it's properties:\n",
    "\n",
    "* Station ID: 0\n",
    "* Absolute gravity: 979656.12 mGal"
   ]
  },
  {
   "cell_type": "markdown",
   "metadata": {},
   "source": [
    "## Import the required libraries\n",
    "\n",
    "To deal with this type of tabular data, all we need are numpy and matplotlib."
   ]
  },
  {
   "cell_type": "code",
   "execution_count": 1,
   "metadata": {},
   "outputs": [],
   "source": [
    "import numpy as np\n",
    "import matplotlib.pyplot as plt"
   ]
  },
  {
   "cell_type": "markdown",
   "metadata": {},
   "source": [
    "## Reading CSV data with numpy\n",
    "\n",
    "To import the CSV data into a numpy array, we'll use the `numpy.loadtxt` function. By default, it expects spaces between values instead of commas, so we have to use the `delimiter` argument to specify that it needs to use commas. We also need to skip the first line of the file that includes the header (names of each column) using the `skiprows` argument."
   ]
  },
  {
   "cell_type": "code",
   "execution_count": 3,
   "metadata": {},
   "outputs": [
    {
     "data": {
      "text/plain": [
       "array([[ 0.00000000e+00,  1.83444400e+01, -3.41297100e+01,\n",
       "         2.55105430e+05,  6.22027633e+06,  3.22000000e+01,\n",
       "         0.00000000e+00,  2.55508000e+03],\n",
       "       [ 1.00000000e+00,  1.83741800e+01, -3.41958300e+01,\n",
       "         2.58037640e+05,  6.21301301e+06,  1.84000000e+01,\n",
       "         8.00000000e+00,  2.56512000e+03],\n",
       "       [ 2.00000000e+00,  1.84038800e+01, -3.42397200e+01,\n",
       "         2.60899250e+05,  6.20821471e+06,  2.50000000e+01,\n",
       "         1.40000000e+01,  2.56949000e+03],\n",
       "       [ 3.00000000e+00,  1.84111200e+01, -3.41644400e+01,\n",
       "         2.61353990e+05,  6.21658203e+06,  2.28700000e+02,\n",
       "         2.30000000e+01,  2.51459000e+03],\n",
       "       [ 4.00000000e+00,  1.84255700e+01, -3.42977800e+01,\n",
       "         2.63060440e+05,  6.20182521e+06,  1.04000000e+02,\n",
       "         4.10000000e+01,  2.56043000e+03],\n",
       "       [ 5.00000000e+00,  1.84586000e+01, -3.42050000e+01,\n",
       "         2.65844020e+05,  6.21219318e+06,  8.90000000e+00,\n",
       "         5.20000000e+01,  2.55984000e+03],\n",
       "       [ 6.00000000e+00,  1.84861100e+01, -3.40852800e+01,\n",
       "         2.68052070e+05,  6.22553549e+06,  1.90000000e+01,\n",
       "         6.60000000e+01,  2.53993000e+03],\n",
       "       [ 7.00000000e+00,  1.85033300e+01, -3.40355500e+01,\n",
       "         2.69506570e+05,  6.23109044e+06,  1.51000000e+01,\n",
       "         7.50000000e+01,  2.53701000e+03],\n",
       "       [ 8.00000000e+00,  1.85438800e+01, -3.40786100e+01,\n",
       "         2.73365760e+05,  6.22640498e+06,  3.47000000e+01,\n",
       "         8.10000000e+01,  2.53694000e+03],\n",
       "       [ 9.00000000e+00,  1.85930600e+01, -3.40491600e+01,\n",
       "         2.77827860e+05,  6.22977946e+06,  5.96000000e+01,\n",
       "         8.90000000e+01,  2.53035000e+03],\n",
       "       [ 1.00000000e+01,  1.86525000e+01, -3.40716700e+01,\n",
       "         2.83372950e+05,  6.22741034e+06,  6.48000000e+01,\n",
       "         9.60000000e+01,  2.53221000e+03],\n",
       "       [ 1.10000000e+01,  1.86672200e+01, -3.40141800e+01,\n",
       "         2.84586180e+05,  6.23381786e+06,  4.39000000e+01,\n",
       "         1.05000000e+02,  2.52927000e+03],\n",
       "       [ 1.20000000e+01,  1.87172200e+01, -3.40619400e+01,\n",
       "         2.89322410e+05,  6.22862482e+06,  7.55000000e+01,\n",
       "         1.12000000e+02,  2.52723000e+03],\n",
       "       [ 1.30000000e+01,  1.87188900e+01, -3.40308200e+01,\n",
       "         2.89399590e+05,  6.23207983e+06,  1.93000000e+01,\n",
       "         1.16000000e+02,  2.53610000e+03],\n",
       "       [ 1.40000000e+01,  1.87966800e+01, -3.40030700e+01,\n",
       "         2.96516560e+05,  6.23531497e+06,  1.11000000e+02,\n",
       "         1.26000000e+02,  2.49935000e+03],\n",
       "       [ 1.50000000e+01,  1.88191700e+01, -3.40808300e+01,\n",
       "         2.98777810e+05,  6.22673515e+06,  1.54000000e+01,\n",
       "         1.37000000e+02,  2.53475000e+03],\n",
       "       [ 1.60000000e+01,  1.88477800e+01, -3.41386100e+01,\n",
       "         3.01553140e+05,  6.22038279e+06,  1.40000000e+01,\n",
       "         1.47000000e+02,  2.54430000e+03],\n",
       "       [ 1.70000000e+01,  1.88550000e+01, -3.42402800e+01,\n",
       "         3.02456310e+05,  6.20912056e+06,  4.36000000e+01,\n",
       "         1.63000000e+02,  2.54886000e+03],\n",
       "       [ 1.80000000e+01,  1.88852800e+01, -3.40947300e+01,\n",
       "         3.04910650e+05,  6.22532175e+06,  2.96500000e+02,\n",
       "         1.81000000e+02,  2.46801000e+03],\n",
       "       [ 0.00000000e+00,  1.83444400e+01, -3.41297100e+01,\n",
       "         2.55105430e+05,  6.22027633e+06,  3.22000000e+01,\n",
       "         2.38000000e+02,  2.54794000e+03]])"
      ]
     },
     "execution_count": 3,
     "metadata": {},
     "output_type": "execute_result"
    }
   ],
   "source": [
    "data = np.loadtxt(\"cape-town-surveys/cape-town-gravity-day-1.csv\", delimiter=\",\", skiprows=1)\n",
    "data"
   ]
  },
  {
   "cell_type": "markdown",
   "metadata": {},
   "source": [
    "----\n",
    "\n",
    "## Your turn\n",
    "\n",
    "Create variables called `station_id`, `easting`, `northing`, `time`, and `reading` with the respective data values (columns in the `data` array).\n",
    "\n",
    "Tip: Use array slicing (like `variable[5:10, 7:8]`) to separate each column of the array.\n"
   ]
  },
  {
   "cell_type": "code",
   "execution_count": 11,
   "metadata": {},
   "outputs": [],
   "source": [
    "station_id = data[:, 0]\n",
    "easting = data[:, 3]\n",
    "northing = data[:, 4]\n",
    "time = data[:, 6]\n",
    "reading = data[:, 7]"
   ]
  },
  {
   "cell_type": "markdown",
   "metadata": {},
   "source": [
    "This would also work (`.T` transposes an array): "
   ]
  },
  {
   "cell_type": "code",
   "execution_count": 10,
   "metadata": {},
   "outputs": [],
   "source": [
    "station_id, easting, northing, time, reading = data[:, [0, 3, 4, 6, 7]].T"
   ]
  },
  {
   "cell_type": "markdown",
   "metadata": {},
   "source": [
    "----\n",
    "\n",
    "## Plot the survey locations on a map\n",
    "\n",
    "Now that we have the easting and northing coordinates of each point, we can plot them on a map to see what kind of layout this survey had."
   ]
  },
  {
   "cell_type": "code",
   "execution_count": 18,
   "metadata": {},
   "outputs": [
    {
     "data": {
      "text/plain": [
       "Text(0.5, 1.0, 'Survey 1: station locations and IDs')"
      ]
     },
     "execution_count": 18,
     "metadata": {},
     "output_type": "execute_result"
    },
    {
     "data": {
      "image/png": "[encoded data removed]",
      "text/plain": [
       "<Figure size 1008x720 with 1 Axes>"
      ]
     },
     "metadata": {
      "needs_background": "light"
     },
     "output_type": "display_data"
    }
   ],
   "source": [
    "plt.figure(figsize=(14, 10))\n",
    "plt.plot(easting, northing, \".k\")\n",
    "for i in range(station_id.size):\n",
    "    plt.text(easting[i], northing[i], station_id[i])\n",
    "plt.xlabel(\"UTM Easting [m]\")\n",
    "plt.ylabel(\"UTM Northing [m]\")\n",
    "plt.title(\"Survey 1: station locations and IDs\")"
   ]
  },
  {
   "cell_type": "markdown",
   "metadata": {},
   "source": [
    "## Drift correction\n",
    "\n",
    "First thing we need to do is correct for the drift. Let's plot the first and last readings to see how much drift there was."
   ]
  },
  {
   "cell_type": "code",
   "execution_count": 25,
   "metadata": {},
   "outputs": [
    {
     "data": {
      "text/plain": [
       "Text(0, 0.5, 'gravimeter reading')"
      ]
     },
     "execution_count": 25,
     "metadata": {},
     "output_type": "execute_result"
    },
    {
     "data": {
      "image/png": "[encoded data removed]",
      "text/plain": [
       "<Figure size 720x504 with 1 Axes>"
      ]
     },
     "metadata": {
      "needs_background": "light"
     },
     "output_type": "display_data"
    }
   ],
   "source": [
    "plt.figure(figsize=(10, 7))\n",
    "plt.plot(time[0], reading[0], \".k\")\n",
    "plt.plot(time[-1], reading[-1], \".k\")\n",
    "plt.title(\"First and last reading at the base station\")\n",
    "plt.xlabel(\"time [minutes]\")\n",
    "plt.ylabel(\"gravimeter reading\")"
   ]
  },
  {
   "cell_type": "markdown",
   "metadata": {},
   "source": [
    "Assuming that the drift is linear, we can calculate the drift factor $\\alpha = \\dfrac{\\Delta r}{\\Delta t}$"
   ]
  },
  {
   "cell_type": "code",
   "execution_count": 27,
   "metadata": {},
   "outputs": [
    {
     "name": "stdout",
     "output_type": "stream",
     "text": [
      "-0.029999999999999465\n"
     ]
    }
   ],
   "source": [
    "drift_factor = (reading[-1] - reading[0]) / (time[-1] - time[0])\n",
    "print(drift_factor)"
   ]
  },
  {
   "cell_type": "markdown",
   "metadata": {},
   "source": [
    "----\n",
    "\n",
    "### Your turn\n",
    "\n",
    "Apply the drift correction to the readings ($r_{corrected} = r - \\alpha\\ t$) and store the results in a variable called `reading_nodrift`. Make a plot of the raw readings and the corrected readings as a function of time (reading in y-axis, time in x-axis)."
   ]
  },
  {
   "cell_type": "code",
   "execution_count": 28,
   "metadata": {},
   "outputs": [],
   "source": [
    "reading_nodrift = reading - drift_factor * time"
   ]
  },
  {
   "cell_type": "code",
   "execution_count": 31,
   "metadata": {},
   "outputs": [
    {
     "data": {
      "text/plain": [
       "Text(0, 0.5, 'gravimeter reading')"
      ]
     },
     "execution_count": 31,
     "metadata": {},
     "output_type": "execute_result"
    },
    {
     "data": {
      "image/png": "[encoded data removed]",
      "text/plain": [
       "<Figure size 720x504 with 1 Axes>"
      ]
     },
     "metadata": {
      "needs_background": "light"
     },
     "output_type": "display_data"
    }
   ],
   "source": [
    "plt.figure(figsize=(10, 7))\n",
    "plt.plot(time, reading, \".k\", label=\"raw reading\")\n",
    "plt.plot(time, reading_nodrift, \".r\", label=\"drift corrected\")\n",
    "plt.legend()\n",
    "plt.xlabel(\"time (minutes)\")\n",
    "plt.ylabel(\"gravimeter reading\")"
   ]
  },
  {
   "cell_type": "markdown",
   "metadata": {},
   "source": [
    "----\n",
    "\n",
    "## Convert readings to mGal\n",
    "\n",
    "The next step is to convert the drif-corrected readings to mGal using the conversion table for this gravimeter. First, we have to load the conversion table using numpy."
   ]
  },
  {
   "cell_type": "code",
   "execution_count": 32,
   "metadata": {},
   "outputs": [
    {
     "data": {
      "text/plain": [
       "array([[0.00000e+00, 0.00000e+00, 1.00636e+00],\n",
       "       [1.00000e+02, 1.00640e+02, 1.00621e+00],\n",
       "       [2.00000e+02, 2.01260e+02, 1.00609e+00],\n",
       "       [3.00000e+02, 3.01870e+02, 1.00597e+00],\n",
       "       [4.00000e+02, 4.02460e+02, 1.00588e+00],\n",
       "       [5.00000e+02, 5.03050e+02, 1.00579e+00],\n",
       "       [6.00000e+02, 6.03630e+02, 1.00570e+00],\n",
       "       [7.00000e+02, 7.04200e+02, 1.00563e+00],\n",
       "       [8.00000e+02, 8.04760e+02, 1.00557e+00],\n",
       "       [9.00000e+02, 9.05320e+02, 1.00551e+00],\n",
       "       [1.00000e+03, 1.00587e+03, 1.00544e+00],\n",
       "       [1.10000e+03, 1.10642e+03, 1.00539e+00],\n",
       "       [1.20000e+03, 1.20695e+03, 1.00533e+00],\n",
       "       [1.30000e+03, 1.30749e+03, 1.00528e+00],\n",
       "       [1.40000e+03, 1.40802e+03, 1.00524e+00],\n",
       "       [1.50000e+03, 1.50854e+03, 1.00522e+00],\n",
       "       [1.60000e+03, 1.60906e+03, 1.00520e+00],\n",
       "       [1.70000e+03, 1.70958e+03, 1.00519e+00],\n",
       "       [1.80000e+03, 1.81010e+03, 1.00518e+00],\n",
       "       [1.90000e+03, 1.91062e+03, 1.00518e+00],\n",
       "       [2.00000e+03, 2.01114e+03, 1.00519e+00],\n",
       "       [2.10000e+03, 2.11166e+03, 1.00520e+00],\n",
       "       [2.20000e+03, 2.21218e+03, 1.00521e+00],\n",
       "       [2.30000e+03, 2.31270e+03, 1.00523e+00],\n",
       "       [2.40000e+03, 2.41322e+03, 1.00525e+00],\n",
       "       [2.50000e+03, 2.51374e+03, 1.00528e+00],\n",
       "       [2.60000e+03, 2.61427e+03, 1.00530e+00],\n",
       "       [2.70000e+03, 2.71480e+03, 1.00531e+00],\n",
       "       [2.80000e+03, 2.81533e+03, 1.00533e+00],\n",
       "       [2.90000e+03, 2.91587e+03, 1.00535e+00],\n",
       "       [3.00000e+03, 3.01640e+03, 1.00536e+00],\n",
       "       [3.10000e+03, 3.11694e+03, 1.00536e+00],\n",
       "       [3.20000e+03, 3.21747e+03, 1.00536e+00],\n",
       "       [3.30000e+03, 3.31801e+03, 1.00536e+00],\n",
       "       [3.40000e+03, 3.41855e+03, 1.00536e+00],\n",
       "       [3.50000e+03, 3.51908e+03, 1.00535e+00],\n",
       "       [3.60000e+03, 3.61962e+03, 1.00533e+00],\n",
       "       [3.70000e+03, 3.72015e+03, 1.00529e+00],\n",
       "       [3.80000e+03, 3.82068e+03, 1.00526e+00],\n",
       "       [3.90000e+03, 3.92120e+03, 1.00523e+00],\n",
       "       [4.00000e+03, 4.02173e+03, 1.00519e+00],\n",
       "       [4.10000e+03, 4.12225e+03, 1.00513e+00],\n",
       "       [4.20000e+03, 4.22276e+03, 1.00509e+00],\n",
       "       [4.30000e+03, 4.32327e+03, 1.00504e+00],\n",
       "       [4.40000e+03, 4.42377e+03, 1.00500e+00],\n",
       "       [4.50000e+03, 4.52427e+03, 1.00494e+00],\n",
       "       [4.60000e+03, 4.62477e+03, 1.00487e+00],\n",
       "       [4.70000e+03, 4.72525e+03, 1.00480e+00],\n",
       "       [4.80000e+03, 4.82573e+03, 1.00474e+00],\n",
       "       [4.90000e+03, 4.92621e+03, 1.00464e+00],\n",
       "       [5.00000e+03, 5.02667e+03, 1.00454e+00],\n",
       "       [5.10000e+03, 5.12713e+03, 1.00444e+00],\n",
       "       [5.20000e+03, 5.22757e+03, 1.00432e+00],\n",
       "       [5.30000e+03, 5.32800e+03, 1.00420e+00],\n",
       "       [5.40000e+03, 5.42842e+03, 1.00406e+00],\n",
       "       [5.50000e+03, 5.52883e+03, 1.00392e+00],\n",
       "       [5.60000e+03, 5.62922e+03, 1.00375e+00],\n",
       "       [5.70000e+03, 5.72959e+03, 1.00355e+00],\n",
       "       [5.80000e+03, 5.82995e+03, 1.00335e+00],\n",
       "       [5.90000e+03, 5.93028e+03, 1.00316e+00],\n",
       "       [6.00000e+03, 6.03060e+03, 1.00296e+00],\n",
       "       [6.10000e+03, 6.13090e+03, 1.00275e+00],\n",
       "       [6.20000e+03, 6.23117e+03, 1.00254e+00],\n",
       "       [6.30000e+03, 6.33143e+03, 1.00231e+00],\n",
       "       [6.40000e+03, 6.43166e+03, 1.00206e+00],\n",
       "       [6.50000e+03, 6.53186e+03, 1.00181e+00],\n",
       "       [6.60000e+03, 6.63204e+03, 1.00154e+00],\n",
       "       [6.70000e+03, 6.73220e+03, 1.00123e+00],\n",
       "       [6.80000e+03, 6.83232e+03, 1.00089e+00],\n",
       "       [6.90000e+03, 6.93241e+03, 1.00047e+00],\n",
       "       [7.00000e+03, 7.03246e+03, 1.00000e+00]])"
      ]
     },
     "execution_count": 32,
     "metadata": {},
     "output_type": "execute_result"
    }
   ],
   "source": [
    "conversion_table = np.loadtxt(\"gravimeter-scaling.csv\", delimiter=\",\", skiprows=1)\n",
    "conversion_table"
   ]
  },
  {
   "cell_type": "code",
   "execution_count": 34,
   "metadata": {},
   "outputs": [],
   "source": [
    "# Separate the columns of the table into variables\n",
    "counter_reading = conversion_table[:, 0]\n",
    "value_mgal = conversion_table[:, 1]\n",
    "interval_factor = conversion_table[:, 2]"
   ]
  },
  {
   "cell_type": "markdown",
   "metadata": {},
   "source": [
    "To illustrate how this is done, let's convert the first reading to mGal. We'll use the values in the table and the formula given above for the conversion.\n",
    "\n",
    "The trick is figuring out the position (row) in the table that has the values we want for a particular reading. The reading has to be within the counter interval for that row. For example, a reading of 2710 would use the values in row 27 of the table. The position/row can be calculated using the integer division (ignoring the remainder and decimal places) of the reading by 100. With this, we can get the exact conversion factor and value in mGal from the table."
   ]
  },
  {
   "cell_type": "code",
   "execution_count": 36,
   "metadata": {},
   "outputs": [
    {
     "name": "stdout",
     "output_type": "stream",
     "text": [
      "2555.08\n"
     ]
    }
   ],
   "source": [
    "reading0 = reading[0]\n",
    "print(reading0)"
   ]
  },
  {
   "cell_type": "code",
   "execution_count": 43,
   "metadata": {},
   "outputs": [
    {
     "name": "stdout",
     "output_type": "stream",
     "text": [
      "25\n"
     ]
    }
   ],
   "source": [
    "position = int(reading0 // 100)\n",
    "print(position)"
   ]
  },
  {
   "cell_type": "code",
   "execution_count": 44,
   "metadata": {},
   "outputs": [
    {
     "name": "stdout",
     "output_type": "stream",
     "text": [
      "2500.0 2513.74 1.00528\n"
     ]
    }
   ],
   "source": [
    "print(counter_reading[position], value_mgal[position], interval_factor[position])"
   ]
  },
  {
   "cell_type": "code",
   "execution_count": 45,
   "metadata": {},
   "outputs": [
    {
     "name": "stdout",
     "output_type": "stream",
     "text": [
      "2569.1108223999995\n"
     ]
    }
   ],
   "source": [
    "reading0_mgal = (reading0 - counter_reading[position]) * interval_factor[position] + value_mgal[position]\n",
    "print(reading0_mgal)"
   ]
  },
  {
   "cell_type": "markdown",
   "metadata": {},
   "source": [
    "Now that we know how to convert one reading, we can repeat this for all readings using a `for` loop. We can use the `range` function to generate a list of values from 0 to a given number. These will be the position of the readings in our array."
   ]
  },
  {
   "cell_type": "code",
   "execution_count": 48,
   "metadata": {},
   "outputs": [
    {
     "name": "stdout",
     "output_type": "stream",
     "text": [
      "[2569.1108224 2579.2038336 2583.5969072 2528.4070352 2574.4890704\n",
      " 2573.8959552 2553.8808304 2550.9454128 2550.8750432 2544.250248\n",
      " 2546.1200688 2543.1645456 2541.1137744 2550.030608  2513.0915875\n",
      " 2548.67348   2558.273904  2562.8579808 2481.5870525 2561.9331232]\n"
     ]
    }
   ],
   "source": [
    "# Start with an empty array and fill it one element at a time\n",
    "reading_mgal = np.empty(reading.size)\n",
    "for i in range(reading.size):\n",
    "    position = int(reading[i] // 100)\n",
    "    reading_mgal[i] = (reading[i] - counter_reading[position]) * interval_factor[position] + value_mgal[position]\n",
    "print(reading_mgal)"
   ]
  },
  {
   "cell_type": "markdown",
   "metadata": {},
   "source": [
    "## Calculate absolute gravity\n",
    "\n",
    "Tie things to the base station gravity and calculate absolute gravity. Plot using scatter."
   ]
  },
  {
   "cell_type": "code",
   "execution_count": null,
   "metadata": {},
   "outputs": [],
   "source": []
  },
  {
   "cell_type": "code",
   "execution_count": null,
   "metadata": {},
   "outputs": [],
   "source": []
  },
  {
   "cell_type": "code",
   "execution_count": null,
   "metadata": {},
   "outputs": [],
   "source": []
  },
  {
   "cell_type": "markdown",
   "metadata": {},
   "source": [
    "----\n",
    "\n",
    "## Your turn\n",
    "\n",
    "Repeat the calculations for every survey. Combine the coordinates, elevation, and absolute gravity into a single data array. Use numpy.concatenate. Save to CSV using `numpy.savetxt`."
   ]
  },
  {
   "cell_type": "code",
   "execution_count": null,
   "metadata": {},
   "outputs": [],
   "source": []
  },
  {
   "cell_type": "code",
   "execution_count": null,
   "metadata": {},
   "outputs": [],
   "source": []
  },
  {
   "cell_type": "code",
   "execution_count": null,
   "metadata": {},
   "outputs": [],
   "source": []
  },
  {
   "cell_type": "code",
   "execution_count": null,
   "metadata": {},
   "outputs": [],
   "source": []
  }
 ],
 "metadata": {
  "kernelspec": {
   "display_name": "Python [conda env:gravity]",
   "language": "python",
   "name": "conda-env-gravity-py"
  },
  "language_info": {
   "codemirror_mode": {
    "name": "ipython",
    "version": 3
   },
   "file_extension": ".py",
   "mimetype": "text/x-python",
   "name": "python",
   "nbconvert_exporter": "python",
   "pygments_lexer": "ipython3",
   "version": "3.8.8"
  }
 },
 "nbformat": 4,
 "nbformat_minor": 4
}
